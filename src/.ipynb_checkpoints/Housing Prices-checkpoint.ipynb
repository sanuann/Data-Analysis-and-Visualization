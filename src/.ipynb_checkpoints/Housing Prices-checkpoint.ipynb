{
 "cells": [
  {
   "cell_type": "markdown",
   "metadata": {},
   "source": [
    "## Housing Prices in College Towns during Recessions"
   ]
  },
  {
   "cell_type": "code",
   "execution_count": 3,
   "metadata": {},
   "outputs": [],
   "source": [
    "import pandas as pd\n",
    "import numpy as np\n",
    "import re\n",
    "from scipy.stats import ttest_ind\n",
    "from scipy import stats"
   ]
  },
  {
   "cell_type": "code",
   "execution_count": 6,
   "metadata": {},
   "outputs": [
    {
     "data": {
      "text/plain": [
       "['Alabama[edit]\\n',\n",
       " 'Auburn (Auburn University)[1]\\n',\n",
       " 'Florence (University of North Alabama)\\n',\n",
       " 'Jacksonville (Jacksonville State University)[2]\\n',\n",
       " 'Livingston (University of West Alabama)[2]\\n',\n",
       " 'Montevallo (University of Montevallo)[2]\\n',\n",
       " 'Troy (Troy University)[2]\\n',\n",
       " 'Tuscaloosa (University of Alabama, Stillman College, Shelton State)[3][4]\\n',\n",
       " 'Tuskegee (Tuskegee University)[5]\\n',\n",
       " 'Alaska[edit]\\n']"
      ]
     },
     "execution_count": 6,
     "metadata": {},
     "output_type": "execute_result"
    }
   ],
   "source": [
    "university_towns = open('../data/housingPrices/university_towns.txt').readlines()\n",
    "university_towns[:10]"
   ]
  },
  {
   "cell_type": "code",
   "execution_count": 7,
   "metadata": {},
   "outputs": [
    {
     "data": {
      "text/plain": [
       "['Alabama', 'Alaska', 'Arizona', 'Arkansas', 'California']"
      ]
     },
     "execution_count": 7,
     "metadata": {},
     "output_type": "execute_result"
    }
   ],
   "source": [
    "states = [line.split('[edit]')[0] for line in university_towns if '[edit]' in line]\n",
    "states[0:5]"
   ]
  },
  {
   "cell_type": "code",
   "execution_count": 8,
   "metadata": {},
   "outputs": [
    {
     "data": {
      "text/plain": [
       "['Alabama[edit]\\n',\n",
       " 'Auburn',\n",
       " 'Florence',\n",
       " 'Jacksonville',\n",
       " 'Livingston',\n",
       " 'Montevallo',\n",
       " 'Troy',\n",
       " 'Tuscaloosa',\n",
       " 'Tuskegee',\n",
       " 'Alaska[edit]\\n']"
      ]
     },
     "execution_count": 8,
     "metadata": {},
     "output_type": "execute_result"
    }
   ],
   "source": [
    "university_towns = [ town.split(' (')[0] for town in university_towns]\n",
    "university_towns[0:10]"
   ]
  },
  {
   "cell_type": "code",
   "execution_count": 7,
   "metadata": {},
   "outputs": [],
   "source": [
    "st = [x.split('[')[0] for x in university_towns if '[edit]' in x]"
   ]
  },
  {
   "cell_type": "code",
   "execution_count": 9,
   "metadata": {
    "scrolled": true
   },
   "outputs": [
    {
     "data": {
      "text/plain": [
       "'Alabama\\\\[edit\\\\]\\n|Alaska\\\\[edit\\\\]\\n|Arizona\\\\[edit\\\\]\\n|Arkansas\\\\[edit\\\\]\\n|California\\\\[edit\\\\]\\n|Colorado\\\\[edit\\\\]\\n|Connecticut\\\\[edit\\\\]\\n|Delaware\\\\[edit\\\\]\\n|Florida\\\\[edit\\\\]\\n|Georgia\\\\[edit\\\\]\\n|Hawaii\\\\[edit\\\\]\\n|Idaho\\\\[edit\\\\]\\n|Illinois\\\\[edit\\\\]\\n|Indiana\\\\[edit\\\\]\\n|Iowa\\\\[edit\\\\]\\n|Kansas\\\\[edit\\\\]\\n|Kentucky\\\\[edit\\\\]\\n|Louisiana\\\\[edit\\\\]\\n|Maine\\\\[edit\\\\]\\n|Maryland\\\\[edit\\\\]\\n|Massachusetts\\\\[edit\\\\]\\n|Michigan\\\\[edit\\\\]\\n|Minnesota\\\\[edit\\\\]\\n|Mississippi\\\\[edit\\\\]\\n|Missouri\\\\[edit\\\\]\\n|Montana\\\\[edit\\\\]\\n|Nebraska\\\\[edit\\\\]\\n|Nevada\\\\[edit\\\\]\\n|New Hampshire\\\\[edit\\\\]\\n|New Jersey\\\\[edit\\\\]\\n|New Mexico\\\\[edit\\\\]\\n|New York\\\\[edit\\\\]\\n|North Carolina\\\\[edit\\\\]\\n|North Dakota\\\\[edit\\\\]\\n|Ohio\\\\[edit\\\\]\\n|Oklahoma\\\\[edit\\\\]\\n|Oregon\\\\[edit\\\\]\\n|Pennsylvania\\\\[edit\\\\]\\n|Rhode Island\\\\[edit\\\\]\\n|South Carolina\\\\[edit\\\\]\\n|South Dakota\\\\[edit\\\\]\\n|Tennessee\\\\[edit\\\\]\\n|Texas\\\\[edit\\\\]\\n|Utah\\\\[edit\\\\]\\n|Vermont\\\\[edit\\\\]\\n|Virginia\\\\[edit\\\\]\\n|Washington\\\\[edit\\\\]\\n|West Virginia\\\\[edit\\\\]\\n|Wisconsin\\\\[edit\\\\]\\n|Wyoming\\\\[edit\\\\]\\n'"
      ]
     },
     "execution_count": 9,
     "metadata": {},
     "output_type": "execute_result"
    }
   ],
   "source": [
    "university_towns = '\\n'.join(university_towns)\n",
    "states_pattern = '\\[edit\\]\\n|'.join(states) + '\\[edit\\]\\n'\n",
    "states_pattern"
   ]
  },
  {
   "cell_type": "code",
   "execution_count": 11,
   "metadata": {
    "scrolled": true
   },
   "outputs": [
    {
     "data": {
      "text/plain": [
       "'Alabama[ed'"
      ]
     },
     "execution_count": 11,
     "metadata": {},
     "output_type": "execute_result"
    }
   ],
   "source": [
    "university_towns[0:10]"
   ]
  },
  {
   "cell_type": "code",
   "execution_count": 12,
   "metadata": {},
   "outputs": [
    {
     "data": {
      "text/plain": [
       "['\\nAuburn\\nFlorence\\nJacksonville\\nLivingston\\nMontevallo\\nTroy\\nTuscaloosa\\nTuskegee\\n',\n",
       " '\\nFairbanks\\n',\n",
       " '\\nFlagstaff\\nTempe\\nTucson\\n',\n",
       " '\\nArkadelphia\\nConway\\nFayetteville\\nJonesboro\\nMagnolia\\nMonticello\\nRussellville\\nSearcy\\n',\n",
       " '\\nAngwin\\nArcata\\nBerkeley\\nChico\\nClaremont\\nCotati\\nDavis\\nIrvine\\nIsla Vista\\nUniversity Park, Los Angeles\\nMerced\\nOrange\\nPalo Alto\\nPomona\\nRedlands\\nRiverside\\nSacramento\\nUniversity District, San Bernardino\\nSan Diego\\nSan Luis Obispo\\nSanta Barbara\\nSanta Cruz\\nTurlock\\nWestwood, Los Angeles\\nWhittier\\n']"
      ]
     },
     "execution_count": 12,
     "metadata": {},
     "output_type": "execute_result"
    }
   ],
   "source": [
    "university_towns1 = re.split(states_pattern, university_towns)[1:]\n",
    "university_towns1[0:5]"
   ]
  },
  {
   "cell_type": "code",
   "execution_count": 13,
   "metadata": {},
   "outputs": [
    {
     "data": {
      "text/plain": [
       "['',\n",
       " 'Auburn',\n",
       " 'Florence',\n",
       " 'Jacksonville',\n",
       " 'Livingston',\n",
       " 'Montevallo',\n",
       " 'Troy',\n",
       " 'Tuscaloosa',\n",
       " 'Tuskegee',\n",
       " '']"
      ]
     },
     "execution_count": 13,
     "metadata": {},
     "output_type": "execute_result"
    }
   ],
   "source": [
    "university_towns1[0].split('\\n')\n"
   ]
  },
  {
   "cell_type": "code",
   "execution_count": 16,
   "metadata": {},
   "outputs": [
    {
     "data": {
      "text/html": [
       "<div>\n",
       "<style scoped>\n",
       "    .dataframe tbody tr th:only-of-type {\n",
       "        vertical-align: middle;\n",
       "    }\n",
       "\n",
       "    .dataframe tbody tr th {\n",
       "        vertical-align: top;\n",
       "    }\n",
       "\n",
       "    .dataframe thead th {\n",
       "        text-align: right;\n",
       "    }\n",
       "</style>\n",
       "<table border=\"1\" class=\"dataframe\">\n",
       "  <thead>\n",
       "    <tr style=\"text-align: right;\">\n",
       "      <th></th>\n",
       "      <th>RegionName</th>\n",
       "      <th>State</th>\n",
       "    </tr>\n",
       "  </thead>\n",
       "  <tbody>\n",
       "    <tr>\n",
       "      <th>0</th>\n",
       "      <td>Auburn</td>\n",
       "      <td>Alabama</td>\n",
       "    </tr>\n",
       "    <tr>\n",
       "      <th>1</th>\n",
       "      <td>Florence</td>\n",
       "      <td>Alabama</td>\n",
       "    </tr>\n",
       "    <tr>\n",
       "      <th>2</th>\n",
       "      <td>Jacksonville</td>\n",
       "      <td>Alabama</td>\n",
       "    </tr>\n",
       "    <tr>\n",
       "      <th>3</th>\n",
       "      <td>Livingston</td>\n",
       "      <td>Alabama</td>\n",
       "    </tr>\n",
       "    <tr>\n",
       "      <th>4</th>\n",
       "      <td>Montevallo</td>\n",
       "      <td>Alabama</td>\n",
       "    </tr>\n",
       "  </tbody>\n",
       "</table>\n",
       "</div>"
      ],
      "text/plain": [
       "     RegionName    State\n",
       "0        Auburn  Alabama\n",
       "1      Florence  Alabama\n",
       "2  Jacksonville  Alabama\n",
       "3    Livingston  Alabama\n",
       "4    Montevallo  Alabama"
      ]
     },
     "execution_count": 16,
     "metadata": {},
     "output_type": "execute_result"
    }
   ],
   "source": [
    "towns = []\n",
    "\n",
    "for state in range(len(states)):\n",
    "    for town in university_towns1[state].split('\\n'):\n",
    "        if town != '\\n' and town != '':\n",
    "            towns.append({\"State\":states[state], \"RegionName\":town})\n",
    "df = pd.DataFrame(towns)\n",
    "df.head()"
   ]
  },
  {
   "cell_type": "markdown",
   "metadata": {},
   "source": [
    "The function below implements these operations and returns the data in a cleaned DataFrame format:"
   ]
  },
  {
   "cell_type": "code",
   "execution_count": 17,
   "metadata": {},
   "outputs": [
    {
     "data": {
      "text/html": [
       "<div>\n",
       "<style scoped>\n",
       "    .dataframe tbody tr th:only-of-type {\n",
       "        vertical-align: middle;\n",
       "    }\n",
       "\n",
       "    .dataframe tbody tr th {\n",
       "        vertical-align: top;\n",
       "    }\n",
       "\n",
       "    .dataframe thead th {\n",
       "        text-align: right;\n",
       "    }\n",
       "</style>\n",
       "<table border=\"1\" class=\"dataframe\">\n",
       "  <thead>\n",
       "    <tr style=\"text-align: right;\">\n",
       "      <th></th>\n",
       "      <th>State</th>\n",
       "      <th>RegionName</th>\n",
       "    </tr>\n",
       "  </thead>\n",
       "  <tbody>\n",
       "    <tr>\n",
       "      <th>0</th>\n",
       "      <td>Alabama</td>\n",
       "      <td>Auburn</td>\n",
       "    </tr>\n",
       "    <tr>\n",
       "      <th>1</th>\n",
       "      <td>Alabama</td>\n",
       "      <td>Florence</td>\n",
       "    </tr>\n",
       "    <tr>\n",
       "      <th>2</th>\n",
       "      <td>Alabama</td>\n",
       "      <td>Jacksonville</td>\n",
       "    </tr>\n",
       "    <tr>\n",
       "      <th>3</th>\n",
       "      <td>Alabama</td>\n",
       "      <td>Livingston</td>\n",
       "    </tr>\n",
       "    <tr>\n",
       "      <th>4</th>\n",
       "      <td>Alabama</td>\n",
       "      <td>Montevallo</td>\n",
       "    </tr>\n",
       "  </tbody>\n",
       "</table>\n",
       "</div>"
      ],
      "text/plain": [
       "     State    RegionName\n",
       "0  Alabama        Auburn\n",
       "1  Alabama      Florence\n",
       "2  Alabama  Jacksonville\n",
       "3  Alabama    Livingston\n",
       "4  Alabama    Montevallo"
      ]
     },
     "execution_count": 17,
     "metadata": {},
     "output_type": "execute_result"
    }
   ],
   "source": [
    "def get_list_of_university_towns():\n",
    "    '''Returns a DataFrame of towns and the states they are in from the \n",
    "    university_towns.txt list. The format of the DataFrame is:\n",
    "    DataFrame( [ [\"Michigan\",\"Ann Arbor\"], [\"Michigan\", \"Yipsilanti\"] ], \n",
    "    columns=[\"State\",\"RegionName\"]  )'''\n",
    "    \n",
    "    university_towns_file = open('../data/housingPrices/university_towns.txt').readlines()\n",
    "    states = [line.split('[edit]')[0] for line in university_towns_file if '[edit]' in line]\n",
    "    university_towns_file = [ town.split(' (')[0] for town in university_towns_file]\n",
    "\n",
    "    university_towns_file = '\\n'.join(university_towns_file) + '\\n'\n",
    "    states_pattern = '\\[edit\\]\\n|'.join(states) + '\\[edit\\]\\n'\n",
    "\n",
    "    university_towns_file = re.split(states_pattern, university_towns_file)[1:]\n",
    "    towns = []\n",
    "\n",
    "    for state in range(len(states)):\n",
    "        for town in university_towns_file[state].split('\\n'):\n",
    "            if town != '\\n' and town != '':\n",
    "                towns.append({\"State\":states[state], \"RegionName\":town})\n",
    "    df = pd.DataFrame(towns)\n",
    "    \n",
    "    return df.iloc[:,::-1]\n",
    "\n",
    "get_list_of_university_towns().head()"
   ]
  },
  {
   "cell_type": "code",
   "execution_count": null,
   "metadata": {},
   "outputs": [],
   "source": []
  }
 ],
 "metadata": {
  "kernelspec": {
   "display_name": "Python 3",
   "language": "python",
   "name": "python3"
  },
  "language_info": {
   "codemirror_mode": {
    "name": "ipython",
    "version": 3
   },
   "file_extension": ".py",
   "mimetype": "text/x-python",
   "name": "python",
   "nbconvert_exporter": "python",
   "pygments_lexer": "ipython3",
   "version": "3.6.0"
  }
 },
 "nbformat": 4,
 "nbformat_minor": 2
}
