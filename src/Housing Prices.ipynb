{
 "cells": [
  {
   "cell_type": "markdown",
   "metadata": {},
   "source": [
    "## Housing Prices in College Towns during Recessions"
   ]
  },
  {
   "cell_type": "code",
   "execution_count": 41,
   "metadata": {},
   "outputs": [],
   "source": [
    "import pandas as pd\n",
    "import numpy as np\n",
    "import re\n",
    "from scipy.stats import ttest_ind\n",
    "from scipy import stats"
   ]
  },
  {
   "cell_type": "code",
   "execution_count": 64,
   "metadata": {},
   "outputs": [
    {
     "data": {
      "text/plain": [
       "['Alabama[edit]\\n',\n",
       " 'Auburn (Auburn University)[1]\\n',\n",
       " 'Florence (University of North Alabama)\\n',\n",
       " 'Jacksonville (Jacksonville State University)[2]\\n',\n",
       " 'Livingston (University of West Alabama)[2]\\n',\n",
       " 'Montevallo (University of Montevallo)[2]\\n',\n",
       " 'Troy (Troy University)[2]\\n',\n",
       " 'Tuscaloosa (University of Alabama, Stillman College, Shelton State)[3][4]\\n',\n",
       " 'Tuskegee (Tuskegee University)[5]\\n',\n",
       " 'Alaska[edit]\\n']"
      ]
     },
     "execution_count": 64,
     "metadata": {},
     "output_type": "execute_result"
    }
   ],
   "source": [
    "university_towns = open('../data/housingPrices/university_towns.txt').readlines()\n",
    "university_towns[:10]"
   ]
  },
  {
   "cell_type": "code",
   "execution_count": 65,
   "metadata": {},
   "outputs": [
    {
     "data": {
      "text/plain": [
       "['Alabama', 'Alaska', 'Arizona', 'Arkansas', 'California']"
      ]
     },
     "execution_count": 65,
     "metadata": {},
     "output_type": "execute_result"
    }
   ],
   "source": [
    "states = [line.split('[edit]')[0] for line in university_towns if '[edit]' in line]\n",
    "states[0:5]"
   ]
  },
  {
   "cell_type": "code",
   "execution_count": 66,
   "metadata": {},
   "outputs": [
    {
     "data": {
      "text/plain": [
       "['Alabama[edit]\\n',\n",
       " 'Auburn',\n",
       " 'Florence',\n",
       " 'Jacksonville',\n",
       " 'Livingston',\n",
       " 'Montevallo',\n",
       " 'Troy',\n",
       " 'Tuscaloosa',\n",
       " 'Tuskegee',\n",
       " 'Alaska[edit]\\n']"
      ]
     },
     "execution_count": 66,
     "metadata": {},
     "output_type": "execute_result"
    }
   ],
   "source": [
    "university_towns = [ town.split(' (')[0] for town in university_towns]\n",
    "university_towns[0:10]"
   ]
  },
  {
   "cell_type": "code",
   "execution_count": 7,
   "metadata": {},
   "outputs": [],
   "source": [
    "st = [x.split('[')[0] for x in university_towns if '[edit]' in x]"
   ]
  },
  {
   "cell_type": "code",
   "execution_count": null,
   "metadata": {},
   "outputs": [],
   "source": []
  },
  {
   "cell_type": "code",
   "execution_count": 67,
   "metadata": {
    "scrolled": true
   },
   "outputs": [
    {
     "data": {
      "text/plain": [
       "'Alabama\\\\[edit\\\\]\\n|Alaska\\\\[edit\\\\]\\n|Arizona\\\\[edit\\\\]\\n|Arkansas\\\\[edit\\\\]\\n|California\\\\[edit\\\\]\\n|Colorado\\\\[edit\\\\]\\n|Connecticut\\\\[edit\\\\]\\n|Delaware\\\\[edit\\\\]\\n|Florida\\\\[edit\\\\]\\n|Georgia\\\\[edit\\\\]\\n|Hawaii\\\\[edit\\\\]\\n|Idaho\\\\[edit\\\\]\\n|Illinois\\\\[edit\\\\]\\n|Indiana\\\\[edit\\\\]\\n|Iowa\\\\[edit\\\\]\\n|Kansas\\\\[edit\\\\]\\n|Kentucky\\\\[edit\\\\]\\n|Louisiana\\\\[edit\\\\]\\n|Maine\\\\[edit\\\\]\\n|Maryland\\\\[edit\\\\]\\n|Massachusetts\\\\[edit\\\\]\\n|Michigan\\\\[edit\\\\]\\n|Minnesota\\\\[edit\\\\]\\n|Mississippi\\\\[edit\\\\]\\n|Missouri\\\\[edit\\\\]\\n|Montana\\\\[edit\\\\]\\n|Nebraska\\\\[edit\\\\]\\n|Nevada\\\\[edit\\\\]\\n|New Hampshire\\\\[edit\\\\]\\n|New Jersey\\\\[edit\\\\]\\n|New Mexico\\\\[edit\\\\]\\n|New York\\\\[edit\\\\]\\n|North Carolina\\\\[edit\\\\]\\n|North Dakota\\\\[edit\\\\]\\n|Ohio\\\\[edit\\\\]\\n|Oklahoma\\\\[edit\\\\]\\n|Oregon\\\\[edit\\\\]\\n|Pennsylvania\\\\[edit\\\\]\\n|Rhode Island\\\\[edit\\\\]\\n|South Carolina\\\\[edit\\\\]\\n|South Dakota\\\\[edit\\\\]\\n|Tennessee\\\\[edit\\\\]\\n|Texas\\\\[edit\\\\]\\n|Utah\\\\[edit\\\\]\\n|Vermont\\\\[edit\\\\]\\n|Virginia\\\\[edit\\\\]\\n|Washington\\\\[edit\\\\]\\n|West Virginia\\\\[edit\\\\]\\n|Wisconsin\\\\[edit\\\\]\\n|Wyoming\\\\[edit\\\\]\\n'"
      ]
     },
     "execution_count": 67,
     "metadata": {},
     "output_type": "execute_result"
    }
   ],
   "source": [
    "university_towns = '\\n'.join(university_towns)\n",
    "states_pattern = '\\[edit\\]\\n|'.join(states) + '\\[edit\\]\\n'\n",
    "states_pattern"
   ]
  },
  {
   "cell_type": "code",
   "execution_count": 68,
   "metadata": {
    "scrolled": true
   },
   "outputs": [
    {
     "data": {
      "text/plain": [
       "'Alabama[edit]\\n\\nAuburn\\nFlorence\\nJacksonville\\nLivingston\\nMontevallo\\nTroy\\nTuscaloosa\\nTuskegee\\nAlaska[edit]\\n\\nFairbanks\\nArizona[edit]\\n\\nFlagstaff\\nTempe\\nTucson\\nArkansas[edit]\\n\\nArkadelphia\\nConway\\nFayetteville\\nJonesboro\\nMagnolia\\nMonticello\\nRussellville\\nSearcy\\nCalifornia[edit]\\n\\nAngwin\\nArcata\\nBerkeley\\nChico\\nClaremont\\nCotati\\nDavis\\nIrvine\\nIsla Vista\\nUniversity Park, Los Angeles\\nMerced\\nOrange\\nPalo Alto\\nPomona\\nRedlands\\nRiverside\\nSacramento\\nUniversity District, San Bernardino\\nSan Diego\\nSan Luis Obispo\\nSanta Barbara\\nSanta Cruz\\nTurlock\\nWestwood, Los Angeles\\nWhittier\\nColorado[edit]\\n\\nAlamosa\\nBoulder\\nDurango\\nFort Collins\\nGolden\\nGrand Junction\\nGreeley\\nGunnison\\nPueblo, Colorado\\nConnecticut[edit]\\n\\nFairfield\\nMiddletown\\nNew Britain\\nNew Haven\\nNew London\\nStorrs\\nWillimantic\\nDelaware[edit]\\n\\nDover\\nNewark\\nFlorida[edit]\\n\\nAve Maria\\nBoca Raton\\nCoral Gables\\nDeLand\\nEstero\\nGainesville\\nOrlando\\nSarasota\\nSt. Augustine\\nSt. Leo\\nTallahassee\\nTampa\\nGeorgia[edit]\\n\\nAlbany\\nAthens\\nAtlanta\\nCarrollton\\nDemorest\\nFort Valley\\nKennesaw\\nMilledgeville\\nMount Vernon\\nOxford\\nRome\\nSavannah\\nStatesboro\\nValdosta\\nWaleska\\nYoung Harris\\nHawaii[edit]\\n\\nManoa\\nIdaho[edit]\\n\\nMoscow\\nPocatello\\nRexburg\\nIllinois[edit]\\n\\nCarbondale\\nChampaignâ€“Urbana\\nCharleston\\nDeKalb\\nEdwardsville\\nEvanston\\nLebanon\\nMacomb\\nNormal\\nPeoria\\nIndiana[edit]\\n\\nBloomington\\nCrawfordsville\\nGreencastle\\nHanover\\nMarion\\nMuncie\\nOakland City\\nRichmond\\nSouth Bend\\nTerre Haute\\nUpland\\nValparaiso\\nWest Lafayette\\nIowa[edit]\\n\\nAmes\\nCedar Falls\\nCedar Rapids, Iowa\\nDecorah\\nFayette\\nGrinnell\\nIowa City\\nLamoni\\nMount Vernon,\\nOrange City\\nSioux Center\\nStorm Lake\\nWaverly\\nKansas[edit]\\n\\nBaldwin City\\nEmporia\\nHays\\nLawrence\\nManhattan\\nPittsburg\\nKentucky[edit]\\n\\nBowling Green\\nColumbia\\nGeorgetown\\nHighland Heights\\nLexington\\nLouisville\\nMorehead\\nMurray\\nRichmond\\nWilliamsburg\\nWilmore\\nLouisiana[edit]\\n\\nBaton Rouge\\nGrambling\\nHammond\\nLafayette\\nMonroe\\nNatchitoches\\nRuston\\nThibodaux\\nMaine[edit]\\n\\nAugusta\\nBar Harbor\\nBrunswick\\nFarmington\\nFort Kent\\nGorham\\nLewiston, Maine\\nOrono\\nWaterville\\nMaryland[edit]\\n\\nAnnapolis\\nChestertown\\nCollege Park\\nCumberland\\nEmmitsburg\\nFrostburg\\nPrincess Anne\\nTowson\\nSalisbury\\nWestminster\\nMassachusetts[edit]\\n\\nBoston\\nBridgewater\\nCambridge\\nChestnut Hill\\nThe Colleges of Worcester Consortium:\\n\\nDudley\\nNorth Grafton\\nPaxton\\nWorcester\\nThe Five College Region of Western Massachusetts:\\n\\nAmherst\\nNorthampton\\nSouth Hadley\\nFitchburg\\nNorth Adams\\nSpringfield\\nWaltham\\nWilliamstown\\nFramingham\\nMichigan[edit]\\n\\nAdrian\\nAlbion\\nAllendale\\nAlma\\nAnn Arbor\\nBerrien Springs\\nBig Rapids\\nEast Lansing\\nFlint\\nHillsdale\\nHoughton\\nKalamazoo\\nMarquette\\nMidland\\nMount Pleasant\\nOlivet\\nSaginaw\\nSault Ste. Marie\\nSpring Arbor\\nYpsilanti\\nMinnesota[edit]\\n\\nBemidji\\nCrookston\\nDuluth\\nFaribault, South Central College\\n\\nMankato\\nMarshall\\nMoorhead\\nMorris\\nNorthfield\\nNorth Mankato, South Central College\\n\\nSt. Cloud\\nSt. Joseph\\nSt. Peter\\nWinona\\nMississippi[edit]\\n\\nCleveland\\nHattiesburg\\nItta Bena\\nOxford\\nStarkville\\nMissouri[edit]\\n\\nBolivar\\nCape Girardeau\\nColumbia\\nFayette\\nFulton\\nKirksville\\nMaryville\\nRolla\\nWarrensburg\\nMontana[edit]\\n\\nBozeman\\nDillon\\nMissoula\\nNebraska[edit]\\n\\nChadron\\nCrete\\nKearney\\nLincoln\\nPeru\\nSeward\\nWayne\\nNevada[edit]\\n\\nLas Vegas\\nReno\\nNew Hampshire[edit]\\n\\nNew London, New Hampshire\\nDurham\\nHanover\\nHenniker\\nKeene\\nPlymouth\\nRindge\\nNew Jersey[edit]\\n\\nEwing\\nJersey City\\nGlassboro\\nHoboken\\nMadison\\nNewark\\nNew Brunswick\\nPrinceton\\nUnion\\nWest Long Branch\\nNew Mexico[edit]\\n\\nHobbs\\nLas Cruces\\nLas Vegas\\nPortales\\nSilver City\\nNew York[edit]\\n\\nAlfred\\nAlbany\\nAurora\\nBinghamton\\nBrockport\\nBuffalo\\nCanton\\nClinton\\nCobleskill\\nDelhi\\nFredonia\\nGeneseo\\nGeneva\\nHamilton\\nIthaca\\nMorningside Heights, Manhattan\\nNew Paltz\\nOneonta\\nOswego\\nPlattsburgh\\nPotsdam\\nPoughkeepsie\\nPurchase\\nRochester\\nSaratoga Springs\\nSeneca Falls\\nStony Brook\\nSyracuse\\nTivoli\\nTroy\\nWest Point\\nNorth Carolina[edit]\\n\\nBanner Elk\\nBoiling Springs\\nBoone\\nBuies Creek\\nChapel Hill\\nCullowhee\\nDavidson\\nDurham\\nElon\\nGreensboro\\nGreenville\\nHickory\\nMars Hill\\nMount Olive\\nPembroke\\nWilmington, North Carolina\\nWingate\\nWinston-Salem\\nNorth Dakota[edit]\\n\\nFargo\\nGrand Forks\\nOhio[edit]\\n\\nAda\\nAlliance\\nAshland\\nAthens\\nBerea\\nBluffton\\nBowling Green\\nCedarville\\nColumbus\\nDelaware\\nFairborn\\nFindlay\\nGambier\\nGranville\\nHiram\\nKent\\nNelsonville\\nNew Concord\\nOberlin\\nOxford\\nRio Grande\\nWilberforce\\nOklahoma[edit]\\n\\nAda\\nAlva\\nDurant\\nEdmond\\nGoodwell\\nLangston\\nNorman\\nStillwater\\nTahlequah\\nTulsa\\nWeatherford\\nOregon[edit]\\n\\nAshland\\nCorvallis\\nEugene\\nForest Grove\\nKlamath Falls\\nLa Grande\\nMarylhurst\\nMcMinnville\\nMonmouth\\nNewberg\\nPennsylvania[edit]\\n\\nAltoona\\nAnnville\\nBethlehem\\nBloomsburg\\nBradford\\nCalifornia\\nCarlisle\\nCecil B. Moore, Philadelphia, also known as \"Templetown\"\\nClarion\\nCollegeville\\nCresson\\nEast Stroudsburg\\nEdinboro\\nErie\\nGettysburg\\nGreensburg\\nGrove City\\nHuntingdon\\nIndiana\\nJohnstown\\nKutztown\\nLancaster\\nLewisburg\\nLock Haven\\nLoretto\\nMansfield\\nMeadville\\nMont Alto\\nMillersville\\nNew Wilmington\\nNorth East\\nUniversity City, Philadelphia\\nOakland, Pittsburgh\\nReading\\nSelinsgrove\\nShippensburg\\nSlippery Rock\\nState College\\nVillanova\\nWaynesburg\\nWest Chester\\nWilkes-Barre\\nWilliamsport\\nRhode Island[edit]\\n\\nKingston\\nProvidence\\nSouth Carolina[edit]\\n\\nCentral\\nCharleston\\nClemson\\nClinton\\nColumbia\\nDue West\\nFlorence\\nGreenwood\\nOrangeburg\\nRock Hill\\nSpartanburg\\nSouth Dakota[edit]\\n\\nBrookings\\nMadison\\nSpearfish\\nVermillion\\nTennessee[edit]\\n\\nChattanooga\\nCollegedale\\nCookeville\\nHarrogate\\nHenderson\\nJohnson City\\nKnoxville\\nMartin\\nMcKenzie\\nMemphis\\nMurfreesboro\\nNashville\\nSewanee\\nTexas[edit]\\n\\nAbilene\\nAlpine\\nAustin\\nBeaumont\\nCanyon\\nCollege Station\\nCommerce\\nDallas\\nDenton\\nFort Worth\\nGeorgetown\\nHuntsville\\nHouston\\nKeene\\nKingsville\\nLubbock\\nNacogdoches\\nPlainview\\nPrairie View\\nSan Marcos\\nStephenville\\nWaco\\nUtah[edit]\\n\\nCedar City\\nLogan\\nProvo\\nOrem\\nSalt Lake City\\nEphraim\\nVermont[edit]\\n\\nBurlington\\nCastleton\\nJohnson\\nLyndonville\\nMiddlebury\\nNorthfield\\nVirginia[edit]\\n\\nBlacksburg\\nBridgewater\\nCharlottesville\\nFarmville\\nFredericksburg\\nHarrisonburg\\nLexington\\nLynchburg\\nRadford\\nWilliamsburg\\nWise\\nChesapeake\\nWashington[edit]\\n\\nBellingham\\nCheney\\nEllensburg\\nPullman\\nUniversity District, Seattle\\nWest Virginia[edit]\\n\\nAthens\\nBuckhannon\\nFairmont\\nGlenville\\nHuntington\\nMontgomery\\nMorgantown\\nShepherdstown\\nWest Liberty\\nWisconsin[edit]\\n\\nAppleton\\nEau Claire\\nGreen Bay\\nLa Crosse\\nMadison\\nMenomonie\\nMilwaukee\\nOshkosh\\nPlatteville\\nRiver Falls\\nStevens Point\\nWaukesha\\nWhitewater\\nWyoming[edit]\\n\\nLaramie'"
      ]
     },
     "execution_count": 68,
     "metadata": {},
     "output_type": "execute_result"
    }
   ],
   "source": [
    "university_towns"
   ]
  },
  {
   "cell_type": "code",
   "execution_count": 73,
   "metadata": {},
   "outputs": [
    {
     "data": {
      "text/plain": [
       "['\\nAuburn\\nFlorence\\nJacksonville\\nLivingston\\nMontevallo\\nTroy\\nTuscaloosa\\nTuskegee\\n',\n",
       " '\\nFairbanks\\n',\n",
       " '\\nFlagstaff\\nTempe\\nTucson\\n',\n",
       " '\\nArkadelphia\\nConway\\nFayetteville\\nJonesboro\\nMagnolia\\nMonticello\\nRussellville\\nSearcy\\n',\n",
       " '\\nAngwin\\nArcata\\nBerkeley\\nChico\\nClaremont\\nCotati\\nDavis\\nIrvine\\nIsla Vista\\nUniversity Park, Los Angeles\\nMerced\\nOrange\\nPalo Alto\\nPomona\\nRedlands\\nRiverside\\nSacramento\\nUniversity District, San Bernardino\\nSan Diego\\nSan Luis Obispo\\nSanta Barbara\\nSanta Cruz\\nTurlock\\nWestwood, Los Angeles\\nWhittier\\n']"
      ]
     },
     "execution_count": 73,
     "metadata": {},
     "output_type": "execute_result"
    }
   ],
   "source": [
    "university_towns1 = re.split(states_pattern, university_towns)[1:]\n",
    "university_towns1[0:5]"
   ]
  },
  {
   "cell_type": "code",
   "execution_count": 79,
   "metadata": {},
   "outputs": [
    {
     "data": {
      "text/plain": [
       "['',\n",
       " 'Auburn',\n",
       " 'Florence',\n",
       " 'Jacksonville',\n",
       " 'Livingston',\n",
       " 'Montevallo',\n",
       " 'Troy',\n",
       " 'Tuscaloosa',\n",
       " 'Tuskegee',\n",
       " '']"
      ]
     },
     "execution_count": 79,
     "metadata": {},
     "output_type": "execute_result"
    }
   ],
   "source": [
    "university_towns1[0].split('\\n')\n"
   ]
  },
  {
   "cell_type": "code",
   "execution_count": 82,
   "metadata": {},
   "outputs": [
    {
     "data": {
      "text/html": [
       "<div>\n",
       "<style scoped>\n",
       "    .dataframe tbody tr th:only-of-type {\n",
       "        vertical-align: middle;\n",
       "    }\n",
       "\n",
       "    .dataframe tbody tr th {\n",
       "        vertical-align: top;\n",
       "    }\n",
       "\n",
       "    .dataframe thead th {\n",
       "        text-align: right;\n",
       "    }\n",
       "</style>\n",
       "<table border=\"1\" class=\"dataframe\">\n",
       "  <thead>\n",
       "    <tr style=\"text-align: right;\">\n",
       "      <th></th>\n",
       "      <th>RegionName</th>\n",
       "      <th>State</th>\n",
       "    </tr>\n",
       "  </thead>\n",
       "  <tbody>\n",
       "    <tr>\n",
       "      <th>0</th>\n",
       "      <td></td>\n",
       "      <td>Alabama</td>\n",
       "    </tr>\n",
       "    <tr>\n",
       "      <th>1</th>\n",
       "      <td>Auburn</td>\n",
       "      <td>Alabama</td>\n",
       "    </tr>\n",
       "    <tr>\n",
       "      <th>2</th>\n",
       "      <td>Florence</td>\n",
       "      <td>Alabama</td>\n",
       "    </tr>\n",
       "    <tr>\n",
       "      <th>3</th>\n",
       "      <td>Jacksonville</td>\n",
       "      <td>Alabama</td>\n",
       "    </tr>\n",
       "    <tr>\n",
       "      <th>4</th>\n",
       "      <td>Livingston</td>\n",
       "      <td>Alabama</td>\n",
       "    </tr>\n",
       "  </tbody>\n",
       "</table>\n",
       "</div>"
      ],
      "text/plain": [
       "     RegionName    State\n",
       "0                Alabama\n",
       "1        Auburn  Alabama\n",
       "2      Florence  Alabama\n",
       "3  Jacksonville  Alabama\n",
       "4    Livingston  Alabama"
      ]
     },
     "execution_count": 82,
     "metadata": {},
     "output_type": "execute_result"
    }
   ],
   "source": [
    "towns = []\n",
    "\n",
    "for state in range(len(states)):\n",
    "    for town in university_towns1[state].split('\\n'):\n",
    "        if town != '\\n' and school != '':\n",
    "            towns.append({\"State\":states[state], \"RegionName\":town})\n",
    "df = pd.DataFrame(towns)\n",
    "df.head()"
   ]
  },
  {
   "cell_type": "code",
   "execution_count": null,
   "metadata": {},
   "outputs": [],
   "source": []
  }
 ],
 "metadata": {
  "kernelspec": {
   "display_name": "Python 3",
   "language": "python",
   "name": "python3"
  },
  "language_info": {
   "codemirror_mode": {
    "name": "ipython",
    "version": 3
   },
   "file_extension": ".py",
   "mimetype": "text/x-python",
   "name": "python",
   "nbconvert_exporter": "python",
   "pygments_lexer": "ipython3",
   "version": "3.6.0"
  }
 },
 "nbformat": 4,
 "nbformat_minor": 2
}
